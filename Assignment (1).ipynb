{
 "cells": [
  {
   "cell_type": "raw",
   "id": "84b322dd",
   "metadata": {},
   "source": [
    "Q1. How do you comment code in Python? What are the different types of comments?\n",
    "Q2. What are variables in Python? How do you declare and assign values to variables?\n",
    "Q3. How do you convert one data type to another in Python?\n",
    "Q4. How do you write and execute a Python script from the command line?\n",
    "Q5. Given a list my_list = [1, 2, 3, 4, 5], write the code to slice the list and obtain the sub-list [2, 3].\n",
    "Q6. What is a complex number in mathematics, and how is it represented in Python?\n",
    "Q7. What is the correct way to declare a variable named age and assign the value 25 to it?\n",
    "Q8. Declare a variable named price and assign the value 9.99 to it. What data type does this variable\n",
    "belong to?\n",
    "Q9. Create a variable named name and assign your full name to it as a string. How would you print the\n",
    "value of this variable?\n",
    "Q10. Given the string \"Hello, World!\", extract the substring \"World\".\n",
    "Q11. Create a variable named \"is_student\" and assign it a boolean value indicating whether you are\n",
    "currently a student or not."
   ]
  },
  {
   "cell_type": "code",
   "execution_count": null,
   "id": "a3b8e4e0",
   "metadata": {},
   "outputs": [],
   "source": [
    "#Q1\n",
    "#comment in python \n",
    "# single line\n",
    "'''multi-line''' \"\"\" multi_line\"\"\""
   ]
  },
  {
   "cell_type": "code",
   "execution_count": 2,
   "id": "74ab491d",
   "metadata": {},
   "outputs": [],
   "source": [
    "#Q2\n",
    "#Variables are used to store data in Python\n",
    "name=\"arhaan\"\n",
    "num=1202"
   ]
  },
  {
   "cell_type": "code",
   "execution_count": 3,
   "id": "3414a26e",
   "metadata": {},
   "outputs": [],
   "source": [
    "#Q3\n",
    "# by using type_casting\n",
    "S=str(num)"
   ]
  },
  {
   "cell_type": "code",
   "execution_count": 12,
   "id": "882e187b",
   "metadata": {},
   "outputs": [
    {
     "data": {
      "text/plain": [
       "int"
      ]
     },
     "execution_count": 12,
     "metadata": {},
     "output_type": "execute_result"
    }
   ],
   "source": [
    "type(num)"
   ]
  },
  {
   "cell_type": "code",
   "execution_count": 22,
   "id": "576b4227",
   "metadata": {},
   "outputs": [
    {
     "data": {
      "text/plain": [
       "str"
      ]
     },
     "execution_count": 22,
     "metadata": {},
     "output_type": "execute_result"
    }
   ],
   "source": [
    "type(S)\n"
   ]
  },
  {
   "cell_type": "code",
   "execution_count": null,
   "id": "e5a08951",
   "metadata": {},
   "outputs": [],
   "source": [
    "# Q4 To write a Python script, you need to create a file with the .py extension. Then, you can execute the script by running the following command in the terminal:\n",
    "# python script.py"
   ]
  },
  {
   "cell_type": "code",
   "execution_count": 20,
   "id": "2c57e362",
   "metadata": {},
   "outputs": [
    {
     "data": {
      "text/plain": [
       "[2, 3]"
      ]
     },
     "execution_count": 20,
     "metadata": {},
     "output_type": "execute_result"
    }
   ],
   "source": [
    "#Q5\n",
    "myList=[1,2,3,4]\n",
    "sub_list=myList[1:3]\n",
    "sub_list"
   ]
  },
  {
   "cell_type": "code",
   "execution_count": 24,
   "id": "24561cc4",
   "metadata": {},
   "outputs": [
    {
     "data": {
      "text/plain": [
       "(1+2j)"
      ]
     },
     "execution_count": 24,
     "metadata": {},
     "output_type": "execute_result"
    }
   ],
   "source": [
    "#Q6  A complex number in mathematics is a number of the form a + bi, where a and b are real numbers and i is the imaginary unit. The imaginary unit is defined as i^2 = -1.\n",
    "\n",
    "#In Python, complex numbers are represented using the complex() function. The complex() function takes two arguments: the real part and the imaginary part.\n",
    "complex_number = complex(1, 2)\n",
    "complex_number\n"
   ]
  },
  {
   "cell_type": "code",
   "execution_count": 25,
   "id": "7d69ae89",
   "metadata": {},
   "outputs": [],
   "source": [
    "#Q7\n",
    "age=25"
   ]
  },
  {
   "cell_type": "code",
   "execution_count": 26,
   "id": "3a01a25d",
   "metadata": {},
   "outputs": [
    {
     "data": {
      "text/plain": [
       "float"
      ]
     },
     "execution_count": 26,
     "metadata": {},
     "output_type": "execute_result"
    }
   ],
   "source": [
    "#Q8 float\n",
    "price=9.99\n",
    "type(price)\n"
   ]
  },
  {
   "cell_type": "code",
   "execution_count": 27,
   "id": "6cafb28f",
   "metadata": {},
   "outputs": [
    {
     "name": "stdout",
     "output_type": "stream",
     "text": [
      "arhaan\n"
     ]
    }
   ],
   "source": [
    "#Q9\n",
    "name='arhaan'\n",
    "print(name)"
   ]
  },
  {
   "cell_type": "code",
   "execution_count": 30,
   "id": "105dd057",
   "metadata": {},
   "outputs": [
    {
     "data": {
      "text/plain": [
       "'world'"
      ]
     },
     "execution_count": 30,
     "metadata": {},
     "output_type": "execute_result"
    }
   ],
   "source": [
    "str='hello,world'\n",
    "str[6:]"
   ]
  },
  {
   "cell_type": "code",
   "execution_count": 31,
   "id": "5fde8769",
   "metadata": {},
   "outputs": [],
   "source": [
    "#Q11\n",
    "is_student=True"
   ]
  },
  {
   "cell_type": "code",
   "execution_count": null,
   "id": "a74f2139",
   "metadata": {},
   "outputs": [],
   "source": []
  }
 ],
 "metadata": {
  "kernelspec": {
   "display_name": "Python 3 (ipykernel)",
   "language": "python",
   "name": "python3"
  },
  "language_info": {
   "codemirror_mode": {
    "name": "ipython",
    "version": 3
   },
   "file_extension": ".py",
   "mimetype": "text/x-python",
   "name": "python",
   "nbconvert_exporter": "python",
   "pygments_lexer": "ipython3",
   "version": "3.10.9"
  }
 },
 "nbformat": 4,
 "nbformat_minor": 5
}
