{
 "cells": [
  {
   "cell_type": "code",
   "execution_count": 1,
   "id": "a81284a0-675b-463e-825d-16d35b9cf9fb",
   "metadata": {},
   "outputs": [],
   "source": [
    "import pandas as pd"
   ]
  },
  {
   "cell_type": "code",
   "execution_count": 2,
   "id": "7a7e33c5-1b3f-4f34-bb2d-2c200cf7604b",
   "metadata": {},
   "outputs": [],
   "source": [
    "#1\n",
    "\n",
    "data =[1,2,3,4,5,6]\n"
   ]
  },
  {
   "cell_type": "code",
   "execution_count": 13,
   "id": "ed2a0b2f-2c3a-4589-96c1-29b0705a82cb",
   "metadata": {},
   "outputs": [],
   "source": [
    "s=pd.Series(data)"
   ]
  },
  {
   "cell_type": "code",
   "execution_count": 10,
   "id": "dbb867b1-c406-4d14-b9f9-ec354d71978b",
   "metadata": {},
   "outputs": [
    {
     "name": "stdout",
     "output_type": "stream",
     "text": [
      "0    1\n",
      "1    2\n",
      "2    3\n",
      "3    4\n",
      "4    5\n",
      "5    6\n",
      "dtype: int64\n"
     ]
    }
   ],
   "source": [
    "print(s)"
   ]
  },
  {
   "cell_type": "code",
   "execution_count": 14,
   "id": "2c22e0ae-d57c-4426-aeaa-3d7963d4fecb",
   "metadata": {},
   "outputs": [
    {
     "name": "stdout",
     "output_type": "stream",
     "text": [
      "0     1\n",
      "1     2\n",
      "2     3\n",
      "3     4\n",
      "4     5\n",
      "5     6\n",
      "6     7\n",
      "7     8\n",
      "8     9\n",
      "9    10\n",
      "dtype: int64\n"
     ]
    }
   ],
   "source": [
    "#2\n",
    "da1=[1,2,3,4,5,6,7,8,9, 10]\n",
    "df=pd.Series(da1)\n",
    "print(df)"
   ]
  },
  {
   "cell_type": "code",
   "execution_count": 15,
   "id": "11392624-ee6e-4032-9e4f-a9e07c70ef80",
   "metadata": {},
   "outputs": [
    {
     "data": {
      "text/plain": [
       "0    1\n",
       "1    2\n",
       "dtype: int64"
      ]
     },
     "execution_count": 15,
     "metadata": {},
     "output_type": "execute_result"
    }
   ],
   "source": [
    "df.head(2)"
   ]
  },
  {
   "cell_type": "code",
   "execution_count": 16,
   "id": "04620113-3bcd-482a-aef2-3e60711196f2",
   "metadata": {},
   "outputs": [
    {
     "data": {
      "text/plain": [
       "6     7\n",
       "7     8\n",
       "8     9\n",
       "9    10\n",
       "dtype: int64"
      ]
     },
     "execution_count": 16,
     "metadata": {},
     "output_type": "execute_result"
    }
   ],
   "source": [
    "df.tail(4)"
   ]
  },
  {
   "cell_type": "code",
   "execution_count": 22,
   "id": "f7a94ffe-5fb7-46c1-a112-f71225fa2f03",
   "metadata": {},
   "outputs": [],
   "source": [
    "d=pd.DataFrame({'arhaan':df})"
   ]
  },
  {
   "cell_type": "code",
   "execution_count": 29,
   "id": "19b23e92-5f6f-434d-acac-ecc462da427e",
   "metadata": {},
   "outputs": [
    {
     "data": {
      "text/html": [
       "<div>\n",
       "<style scoped>\n",
       "    .dataframe tbody tr th:only-of-type {\n",
       "        vertical-align: middle;\n",
       "    }\n",
       "\n",
       "    .dataframe tbody tr th {\n",
       "        vertical-align: top;\n",
       "    }\n",
       "\n",
       "    .dataframe thead th {\n",
       "        text-align: right;\n",
       "    }\n",
       "</style>\n",
       "<table border=\"1\" class=\"dataframe\">\n",
       "  <thead>\n",
       "    <tr style=\"text-align: right;\">\n",
       "      <th></th>\n",
       "      <th>arhaan</th>\n",
       "    </tr>\n",
       "  </thead>\n",
       "  <tbody>\n",
       "    <tr>\n",
       "      <th>7</th>\n",
       "      <td>8</td>\n",
       "    </tr>\n",
       "    <tr>\n",
       "      <th>8</th>\n",
       "      <td>9</td>\n",
       "    </tr>\n",
       "    <tr>\n",
       "      <th>9</th>\n",
       "      <td>10</td>\n",
       "    </tr>\n",
       "  </tbody>\n",
       "</table>\n",
       "</div>"
      ],
      "text/plain": [
       "   arhaan\n",
       "7       8\n",
       "8       9\n",
       "9      10"
      ]
     },
     "execution_count": 29,
     "metadata": {},
     "output_type": "execute_result"
    }
   ],
   "source": [
    "d.tail(3)"
   ]
  },
  {
   "cell_type": "code",
   "execution_count": 30,
   "id": "1d6881b4-987b-4686-8121-6af90168c69b",
   "metadata": {},
   "outputs": [
    {
     "data": {
      "text/plain": [
       "arhaan    int64\n",
       "dtype: object"
      ]
     },
     "execution_count": 30,
     "metadata": {},
     "output_type": "execute_result"
    }
   ],
   "source": [
    "d.dtypes"
   ]
  },
  {
   "cell_type": "code",
   "execution_count": 32,
   "id": "0ff0300c-5944-4d3c-bde9-c37ad6d39e10",
   "metadata": {},
   "outputs": [
    {
     "data": {
      "text/plain": [
       "pandas.core.frame.DataFrame"
      ]
     },
     "execution_count": 32,
     "metadata": {},
     "output_type": "execute_result"
    }
   ],
   "source": [
    "type(d)"
   ]
  },
  {
   "cell_type": "code",
   "execution_count": 51,
   "id": "cdefaf3b-d744-441f-86c8-916c4c4b7085",
   "metadata": {},
   "outputs": [],
   "source": [
    "3 #dataFrame\n",
    "\n",
    "\n",
    "d=['alice','bob','sid']\n",
    "d2=[25,30,27]\n",
    "d2=pd.Series(d2)\n",
    "d=pd.Series(d)\n",
    "d3=['F','M','M']\n",
    "d3=pd.Series(d3)\n",
    "df=({'name':d,'age':d2,'Gender':d3})\n"
   ]
  },
  {
   "cell_type": "code",
   "execution_count": 48,
   "id": "04a4e242-33d9-4e5a-9cca-0c0dc4a33088",
   "metadata": {},
   "outputs": [],
   "source": [
    "d=pd.DataFrame(df)"
   ]
  },
  {
   "cell_type": "code",
   "execution_count": 50,
   "id": "38efba85-af58-44cc-85fe-c54d4d2ee5a4",
   "metadata": {},
   "outputs": [
    {
     "name": "stdout",
     "output_type": "stream",
     "text": [
      "    name  age Gender\n",
      "0  alice   25      F\n",
      "1    bob   30      M\n",
      "2    sid   27      M\n"
     ]
    }
   ],
   "source": [
    "print(d)"
   ]
  },
  {
   "cell_type": "code",
   "execution_count": null,
   "id": "d62a8b3f-0018-45f3-a57e-88064ab1bfd3",
   "metadata": {},
   "outputs": [],
   "source": [
    "## 4\n",
    "\n",
    "#DataFrame in Pandas is a 2-dimensional labeled data structure with columns of potentially different types, similar to a spreadsheet.\n",
    "#It can be thought of as a collection of Series.\n",
    "\n",
    "#A Series, on the other hand, is a one-dimensional labeled array capable of holding data of any type. It represents a single column of a DataFrame."
   ]
  },
  {
   "cell_type": "raw",
   "id": "fe728d8d-755d-4b4c-8597-2c1a13748088",
   "metadata": {},
   "source": [
    "5\n",
    "head() and tail(): These functions allow you to view the first or last n rows of a DataFrame. They are useful for quickly inspecting the data.\n",
    "\n",
    "info(): This function provides a concise summary of the DataFrame, including the data types of each column and the number of non-null values.\n",
    "\n",
    "describe(): This function computes summary statistics for numerical columns, such as count, mean, std, min, max, etc. It is helpful for getting an overview of the numerical data.\n",
    "\n",
    "value_counts(): This function counts the occurrences of each unique value in a column. It is useful for understanding the distribution of values in a categorical column.\n",
    "\n",
    "groupby(): This function is used to group the data in a DataFrame based on one or more columns. It is often used in conjunction with aggregation functions like sum(), mean(), count(), etc., to perform group-wise operations.\n",
    "\n",
    "apply(): This function applies a function along an axis of the DataFrame. It is useful for applying custom transformations to the data.\n",
    "\n",
    "merge(): This function is used to merge two DataFrames based on a common column or index. It is useful for combining data from multiple sources.\n",
    "\n",
    "pivot_table(): This function creates a spreadsheet-style pivot table as a DataFrame. It is useful for summarizing and aggregating data in a DataFrame.\n",
    "\n",
    "sort_values(): This function sorts the DataFrame by the values in one or more columns. It is useful for sorting the data based on a specific criterion.\n",
    "\n",
    "fillna(): This function fills missing values in the DataFrame with a specified value or method. It is useful for handling missing data."
   ]
  },
  {
   "cell_type": "markdown",
   "id": "49e69ccf-b383-4f11-95c1-f2a4ca916726",
   "metadata": {},
   "source": [
    "6\n",
    "A DataFrame in Pandas is a 2-dimensional labeled data structure with columns of potentially different types. It can be thought of as a table in a relational database or a spreadsheet. Each column in a DataFrame is a Series.\n",
    "\n",
    "A Series, on the other hand, is a one-dimensional labeled array that can hold data of any type (integer, string, float, etc.). It is similar to a single column in a spreadsheet or a single variable in a database table.\n",
    "pannel  handle 3-dimensional data, similar to how DataFrame handles 2-dimensional data. However, due to its limited use and complexity, it was deprecated in favor of using MultiIndex DataFrames or xarray for handling 3-dimensional data."
   ]
  },
  {
   "cell_type": "code",
   "execution_count": 52,
   "id": "6da3fded-781e-485c-a6cf-abf36781f8f3",
   "metadata": {},
   "outputs": [
    {
     "name": "stdout",
     "output_type": "stream",
     "text": [
      "     Name  Age  Gender\n",
      "0   Alice   25  Female\n",
      "1     Bob   30    Male\n",
      "2  Claire   27  Female\n"
     ]
    }
   ],
   "source": [
    "#7\n",
    "import pandas as pd\n",
    "\n",
    "# Creating multiple Series\n",
    "name_series = pd.Series(['Alice', 'Bob', 'Claire'], name='Name')\n",
    "age_series = pd.Series([25, 30, 27], name='Age')\n",
    "gender_series = pd.Series(['Female', 'Male', 'Female'], name='Gender')\n",
    "\n",
    "# Creating a DataFrame using the Series\n",
    "df = pd.DataFrame({'Name': name_series, 'Age': age_series, 'Gender': gender_series})\n",
    "\n",
    "# Printing the DataFrame\n",
    "print(df)\n"
   ]
  },
  {
   "cell_type": "code",
   "execution_count": null,
   "id": "8de76123-d052-4fb1-8b9f-9d722c900500",
   "metadata": {},
   "outputs": [],
   "source": []
  }
 ],
 "metadata": {
  "kernelspec": {
   "display_name": "Python 3 (ipykernel)",
   "language": "python",
   "name": "python3"
  },
  "language_info": {
   "codemirror_mode": {
    "name": "ipython",
    "version": 3
   },
   "file_extension": ".py",
   "mimetype": "text/x-python",
   "name": "python",
   "nbconvert_exporter": "python",
   "pygments_lexer": "ipython3",
   "version": "3.11.7"
  }
 },
 "nbformat": 4,
 "nbformat_minor": 5
}
